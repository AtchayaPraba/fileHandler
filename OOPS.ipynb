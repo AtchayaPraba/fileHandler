{
 "cells": [
  {
   "cell_type": "code",
   "execution_count": 1,
   "id": "9366897c",
   "metadata": {},
   "outputs": [],
   "source": [
    "import os, glob, shutil\n",
    "from docx import Document"
   ]
  },
  {
   "cell_type": "code",
   "execution_count": 2,
   "id": "3a6f4e73",
   "metadata": {},
   "outputs": [
    {
     "data": {
      "text/plain": [
       "'D:\\\\iNeuron\\\\Full Stack Data Science\\\\fileHandler'"
      ]
     },
     "execution_count": 2,
     "metadata": {},
     "output_type": "execute_result"
    }
   ],
   "source": [
    "cwd = os.getcwd()\n",
    "cwd"
   ]
  },
  {
   "cell_type": "code",
   "execution_count": 3,
   "id": "0062f580",
   "metadata": {},
   "outputs": [
    {
     "data": {
      "text/plain": [
       "['.ipynb_checkpoints', 'OOPS.ipynb', 'test.txt']"
      ]
     },
     "execution_count": 3,
     "metadata": {},
     "output_type": "execute_result"
    }
   ],
   "source": [
    "os.listdir()"
   ]
  },
  {
   "cell_type": "code",
   "execution_count": 4,
   "id": "2527d1fb",
   "metadata": {},
   "outputs": [],
   "source": [
    "class fileHandler:\n",
    "    \n",
    "    import os, glob, shutil\n",
    "    from docx import Document\n",
    "    \n",
    "    def __init__ (self):\n",
    "        self.cwd = os.getcwd()\n",
    "        \n",
    "    def readText (self, filename, filepath):\n",
    "        os.chdir(filepath)\n",
    "        try:\n",
    "            with open(filename) as file:\n",
    "                print (file.read())\n",
    "        except Exception as e:\n",
    "            print (e)\n",
    "        else:\n",
    "            print (filename, \"READ SUCCESSFULLY !!\")\n",
    "        finally:\n",
    "            os.chdir(self.cwd)\n",
    "    \n",
    "    def readDocument (self, filename, filepath):\n",
    "        os.chdir(filepath)\n",
    "        try:\n",
    "            para_list = []\n",
    "            file = Document(filepath+\"\\\\\"+filename)\n",
    "            for para in file.paragraphs:\n",
    "                para_list.append(para.text)\n",
    "            print (\"\\n\".join(para_list))\n",
    "        except Exception as e:\n",
    "            print (e)\n",
    "        else:\n",
    "            print (filename, \"READ SUCCESSFULLY !!\")\n",
    "        finally:\n",
    "            os.chdir(self.cwd)\n",
    "            \n",
    "    def appendDoctoText (self, filename, filepath, op_filename, op_filepath):\n",
    "        os.chdir(filepath)\n",
    "        try:\n",
    "            para_list = []\n",
    "            file = Document(filepath+\"\\\\\"+filename)\n",
    "            for para in file.paragraphs:\n",
    "                para_list.append(para.text)\n",
    "            os.chdir(op_filepath)\n",
    "            with open(op_filename, \"a+\") as file:\n",
    "                file.write(filename.upper().center(130, \"*\"))\n",
    "                file.write(\"\\n\"*2)\n",
    "                file.write(\"\\n\".join(para_list))\n",
    "                file.write(\"\\n\"*2)\n",
    "        except Exception as e:\n",
    "            print (e)\n",
    "        else:\n",
    "            print (op_filename, \"APPENDED SUCCESSFULLY !!\")\n",
    "        finally:\n",
    "            os.chdir(self.cwd)"
   ]
  },
  {
   "cell_type": "code",
   "execution_count": 5,
   "id": "269496a1",
   "metadata": {},
   "outputs": [],
   "source": [
    "fileHandler_instance = fileHandler()"
   ]
  },
  {
   "cell_type": "code",
   "execution_count": 6,
   "id": "c9a2004d",
   "metadata": {},
   "outputs": [
    {
     "data": {
      "text/plain": [
       "'D:\\\\iNeuron\\\\Full Stack Data Science\\\\fileHandler'"
      ]
     },
     "execution_count": 6,
     "metadata": {},
     "output_type": "execute_result"
    }
   ],
   "source": [
    "fileHandler_instance.cwd"
   ]
  },
  {
   "cell_type": "code",
   "execution_count": 7,
   "id": "1f3d3d1c",
   "metadata": {},
   "outputs": [
    {
     "name": "stdout",
     "output_type": "stream",
     "text": [
      "[Errno 2] No such file or directory: 'text.txt'\n"
     ]
    }
   ],
   "source": [
    "fileHandler_instance.readText(filename=\"text.txt\", filepath=os.getcwd())"
   ]
  },
  {
   "cell_type": "code",
   "execution_count": 8,
   "id": "8742423e",
   "metadata": {},
   "outputs": [
    {
     "name": "stdout",
     "output_type": "stream",
     "text": [
      "1. In the below elements which of them are values or an expression? eg:- values can be integer or string and expressions will be mathematical operators.\n",
      "* \n",
      "'hello'\n",
      "-87.8\n",
      "- \n",
      "/ \n",
      "\n",
      "6 \n",
      "\n",
      "2. What is the difference between string and variable?\n",
      "\n",
      "3. Describe three different data types.\n",
      "\n",
      "4. What is an expression made up of? What do all expressions do?\n",
      "5. This assignment statements, like spam = 10. What is the difference between an expression and a statement?\n",
      "6. After running the following code, what does the variable bacon contain?\n",
      "bacon = 22\n",
      "bacon + 1\n",
      "\n",
      "7. What should the values of the following two terms be?\n",
      "'spam' + 'spamspam'\n",
      "'spam' * 3\n",
      "\n",
      "8. Why is eggs a valid variable name while 100 is invalid?\n",
      "9. What three functions can be used to get the integer, floating-point number, or string version of a value?\n",
      "10. Why does this expression cause an error? How can you fix it?\n",
      "'I have eaten ' + 99 + ' burritos.'\n",
      "\n",
      "\n",
      "Assignment_1.docx READ SUCCESSFULLY !!\n"
     ]
    }
   ],
   "source": [
    "fileHandler_instance.readDocument(filename=\"Assignment_1.docx\", filepath=\"C:\\\\Users\\\\AKSHAYA\\\\Downloads\")"
   ]
  },
  {
   "cell_type": "code",
   "execution_count": 9,
   "id": "c73df60d",
   "metadata": {},
   "outputs": [
    {
     "name": "stdout",
     "output_type": "stream",
     "text": [
      "Assignment_1.txt APPENDED SUCCESSFULLY !!\n"
     ]
    }
   ],
   "source": [
    "fileHandler_instance.appendDoctoText(filename=\"Assignment_1.docx\", filepath=\"C:\\\\Users\\\\AKSHAYA\\\\Downloads\", \n",
    "                                     op_filename=\"Assignment_1.txt\", op_filepath=fileHandler_instance.cwd)"
   ]
  },
  {
   "cell_type": "code",
   "execution_count": 10,
   "id": "532a3b5a",
   "metadata": {},
   "outputs": [
    {
     "data": {
      "text/plain": [
       "'D:\\\\iNeuron\\\\Full Stack Data Science\\\\fileHandler'"
      ]
     },
     "execution_count": 10,
     "metadata": {},
     "output_type": "execute_result"
    }
   ],
   "source": [
    "os.getcwd()"
   ]
  },
  {
   "cell_type": "code",
   "execution_count": null,
   "id": "91710ac0",
   "metadata": {},
   "outputs": [],
   "source": []
  }
 ],
 "metadata": {
  "kernelspec": {
   "display_name": "Python 3 (ipykernel)",
   "language": "python",
   "name": "python3"
  },
  "language_info": {
   "codemirror_mode": {
    "name": "ipython",
    "version": 3
   },
   "file_extension": ".py",
   "mimetype": "text/x-python",
   "name": "python",
   "nbconvert_exporter": "python",
   "pygments_lexer": "ipython3",
   "version": "3.9.12"
  }
 },
 "nbformat": 4,
 "nbformat_minor": 5
}

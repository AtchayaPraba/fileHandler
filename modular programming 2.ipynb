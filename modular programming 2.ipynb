{
 "cells": [
  {
   "cell_type": "code",
   "execution_count": 1,
   "id": "293d658a",
   "metadata": {},
   "outputs": [],
   "source": [
    "import os, glob, shutil\n",
    "from fileHandler import fileHandler"
   ]
  },
  {
   "cell_type": "code",
   "execution_count": 2,
   "id": "3eda3f30",
   "metadata": {},
   "outputs": [],
   "source": [
    "fileHandler_instance = fileHandler()"
   ]
  },
  {
   "cell_type": "code",
   "execution_count": 3,
   "id": "77178c36",
   "metadata": {},
   "outputs": [
    {
     "data": {
      "text/plain": [
       "'D:\\\\iNeuron\\\\Full Stack Data Science\\\\fileHandler'"
      ]
     },
     "execution_count": 3,
     "metadata": {},
     "output_type": "execute_result"
    }
   ],
   "source": [
    "fileHandler_instance.cwd"
   ]
  },
  {
   "cell_type": "code",
   "execution_count": 4,
   "id": "4c4cdff5",
   "metadata": {},
   "outputs": [
    {
     "data": {
      "text/plain": [
       "'C:\\\\Users\\\\AKSHAYA\\\\Downloads'"
      ]
     },
     "execution_count": 4,
     "metadata": {},
     "output_type": "execute_result"
    }
   ],
   "source": [
    "download = \"C:\\\\Users\\\\AKSHAYA\\\\Downloads\"\n",
    "download"
   ]
  },
  {
   "cell_type": "code",
   "execution_count": 5,
   "id": "05497459",
   "metadata": {},
   "outputs": [],
   "source": [
    "lst_filename = []"
   ]
  },
  {
   "cell_type": "code",
   "execution_count": 6,
   "id": "d62a8d95",
   "metadata": {},
   "outputs": [
    {
     "name": "stdout",
     "output_type": "stream",
     "text": [
      "Programming_Assingment1.docx Programming_Assingment_01.docx\n",
      "Programming_Assingment2.docx Programming_Assingment_02.docx\n",
      "Programming_Assingment3.docx Programming_Assingment_03.docx\n",
      "Programming_Assingment4.docx Programming_Assingment_04.docx\n",
      "Programming_Assingment5.docx Programming_Assingment_05.docx\n",
      "Programming_Assingment6.docx Programming_Assingment_06.docx\n",
      "Programming_Assingment7.docx Programming_Assingment_07.docx\n",
      "Programming_Assingment8.docx Programming_Assingment_08.docx\n",
      "Programming_Assingment9.docx Programming_Assingment_09.docx\n",
      "Programming_Assingment10.docx Programming_Assingment_10.docx\n",
      "Programming_Assingment11.docx Programming_Assingment_11.docx\n",
      "Programming_Assingment12.docx Programming_Assingment_12.docx\n",
      "Programming_Assingment13.docx Programming_Assingment_13.docx\n",
      "Programming_Assingment14.docx Programming_Assingment_14.docx\n",
      "Programming_Assingment15.docx Programming_Assingment_15.docx\n",
      "Programming_Assingment16.docx Programming_Assingment_16.docx\n",
      "Programming_Assingment17.docx Programming_Assingment_17.docx\n",
      "Programming_Assingment18.docx Programming_Assingment_18.docx\n",
      "Programming_Assingment19.docx Programming_Assingment_19.docx\n",
      "Programming_Assingment20.docx Programming_Assingment_20.docx\n",
      "Programming_Assingment21.docx Programming_Assingment_21.docx\n",
      "Programming_Assingment22.docx Programming_Assingment_22.docx\n",
      "Programming_Assingment23.docx Programming_Assingment_23.docx\n",
      "Programming_Assingment24.docx Programming_Assingment_24.docx\n",
      "Programming_Assingment25.docx Programming_Assingment_25.docx\n"
     ]
    }
   ],
   "source": [
    "os.chdir(download)\n",
    "lst = [\"[0-9]\",\"[0-9][0-9]\"]\n",
    "for i in lst:\n",
    "    for file_name in glob.glob(\"Programming_Assingment\"+i+\".docx\"):\n",
    "        res = fileHandler_instance.get_numbers_from_string(file_name)\n",
    "        if (res[0] < 10):\n",
    "            new_file_name = \"Programming_Assingment_\"+\"0\"+str(res[0])+\".docx\"\n",
    "        elif (res[0] >= 10):\n",
    "            new_file_name = \"Programming_Assingment_\"+str(res[0])+\".docx\"\n",
    "        print (file_name, new_file_name)\n",
    "        lst_filename.append((file_name, new_file_name))\n",
    "os.chdir(fileHandler_instance.cwd)"
   ]
  },
  {
   "cell_type": "code",
   "execution_count": 7,
   "id": "839d1dfd",
   "metadata": {},
   "outputs": [
    {
     "name": "stdout",
     "output_type": "stream",
     "text": [
      "Assignment1.docx Programming_Assingment_0101.docx\n",
      "Assignment2.docx Programming_Assingment_0202.docx\n",
      "Assignment3.docx Programming_Assingment_0303.docx\n",
      "Assignment4.docx Programming_Assingment_0404.docx\n",
      "Assignment5.docx Programming_Assingment_0505.docx\n",
      "Assignment6.docx Programming_Assingment_0606.docx\n",
      "Assignment7.docx Programming_Assingment_0707.docx\n",
      "Assignment8.docx Programming_Assingment_0808.docx\n",
      "Assignment9.docx Programming_Assingment_0909.docx\n",
      "Assignment10.docx Programming_Assingment_1010.docx\n",
      "Assignment11.docx Programming_Assingment_1111.docx\n",
      "Assignment12.docx Programming_Assingment_1212.docx\n",
      "Assignment13.docx Programming_Assingment_1313.docx\n",
      "Assignment14.docx Programming_Assingment_1414.docx\n",
      "Assignment15.docx Programming_Assingment_1515.docx\n",
      "Assignment16.docx Programming_Assingment_1616.docx\n",
      "Assignment17.docx Programming_Assingment_1717.docx\n",
      "Assignment18.docx Programming_Assingment_1818.docx\n",
      "Assignment19.docx Programming_Assingment_1919.docx\n",
      "Assignment20.docx Programming_Assingment_2020.docx\n",
      "Assignment21.docx Programming_Assingment_2121.docx\n",
      "Assignment22.docx Programming_Assingment_2222.docx\n",
      "Assignment23.docx Programming_Assingment_2323.docx\n",
      "Assignment24.docx Programming_Assingment_2424.docx\n",
      "Assignment25.docx Programming_Assingment_2525.docx\n"
     ]
    }
   ],
   "source": [
    "os.chdir(download)\n",
    "lst = [\"[0-9]\",\"[0-9][0-9]\"]\n",
    "for i in lst:\n",
    "    for file_name in glob.glob(\"Assignment\"+i+\".*\"):\n",
    "        res = fileHandler_instance.get_numbers_from_string(file_name)\n",
    "        if (res[0] < 10):\n",
    "            new_file_name = \"Programming_Assingment_\"+(\"0\"+str(res[0]))*2+\".docx\"\n",
    "        elif (res[0] >= 10):\n",
    "            new_file_name = \"Programming_Assingment_\"+(str(res[0]))*2+\".docx\"\n",
    "        print (file_name, new_file_name)\n",
    "        lst_filename.append((file_name, new_file_name))\n",
    "os.chdir(fileHandler_instance.cwd)"
   ]
  },
  {
   "cell_type": "code",
   "execution_count": 8,
   "id": "e52620d1",
   "metadata": {},
   "outputs": [
    {
     "data": {
      "text/plain": [
       "[('Programming_Assingment1.docx', 'Programming_Assingment_01.docx'),\n",
       " ('Programming_Assingment2.docx', 'Programming_Assingment_02.docx'),\n",
       " ('Programming_Assingment3.docx', 'Programming_Assingment_03.docx'),\n",
       " ('Programming_Assingment4.docx', 'Programming_Assingment_04.docx'),\n",
       " ('Programming_Assingment5.docx', 'Programming_Assingment_05.docx'),\n",
       " ('Programming_Assingment6.docx', 'Programming_Assingment_06.docx'),\n",
       " ('Programming_Assingment7.docx', 'Programming_Assingment_07.docx'),\n",
       " ('Programming_Assingment8.docx', 'Programming_Assingment_08.docx'),\n",
       " ('Programming_Assingment9.docx', 'Programming_Assingment_09.docx'),\n",
       " ('Programming_Assingment10.docx', 'Programming_Assingment_10.docx'),\n",
       " ('Programming_Assingment11.docx', 'Programming_Assingment_11.docx'),\n",
       " ('Programming_Assingment12.docx', 'Programming_Assingment_12.docx'),\n",
       " ('Programming_Assingment13.docx', 'Programming_Assingment_13.docx'),\n",
       " ('Programming_Assingment14.docx', 'Programming_Assingment_14.docx'),\n",
       " ('Programming_Assingment15.docx', 'Programming_Assingment_15.docx'),\n",
       " ('Programming_Assingment16.docx', 'Programming_Assingment_16.docx'),\n",
       " ('Programming_Assingment17.docx', 'Programming_Assingment_17.docx'),\n",
       " ('Programming_Assingment18.docx', 'Programming_Assingment_18.docx'),\n",
       " ('Programming_Assingment19.docx', 'Programming_Assingment_19.docx'),\n",
       " ('Programming_Assingment20.docx', 'Programming_Assingment_20.docx'),\n",
       " ('Programming_Assingment21.docx', 'Programming_Assingment_21.docx'),\n",
       " ('Programming_Assingment22.docx', 'Programming_Assingment_22.docx'),\n",
       " ('Programming_Assingment23.docx', 'Programming_Assingment_23.docx'),\n",
       " ('Programming_Assingment24.docx', 'Programming_Assingment_24.docx'),\n",
       " ('Programming_Assingment25.docx', 'Programming_Assingment_25.docx'),\n",
       " ('Assignment1.docx', 'Programming_Assingment_0101.docx'),\n",
       " ('Assignment2.docx', 'Programming_Assingment_0202.docx'),\n",
       " ('Assignment3.docx', 'Programming_Assingment_0303.docx'),\n",
       " ('Assignment4.docx', 'Programming_Assingment_0404.docx'),\n",
       " ('Assignment5.docx', 'Programming_Assingment_0505.docx'),\n",
       " ('Assignment6.docx', 'Programming_Assingment_0606.docx'),\n",
       " ('Assignment7.docx', 'Programming_Assingment_0707.docx'),\n",
       " ('Assignment8.docx', 'Programming_Assingment_0808.docx'),\n",
       " ('Assignment9.docx', 'Programming_Assingment_0909.docx'),\n",
       " ('Assignment10.docx', 'Programming_Assingment_1010.docx'),\n",
       " ('Assignment11.docx', 'Programming_Assingment_1111.docx'),\n",
       " ('Assignment12.docx', 'Programming_Assingment_1212.docx'),\n",
       " ('Assignment13.docx', 'Programming_Assingment_1313.docx'),\n",
       " ('Assignment14.docx', 'Programming_Assingment_1414.docx'),\n",
       " ('Assignment15.docx', 'Programming_Assingment_1515.docx'),\n",
       " ('Assignment16.docx', 'Programming_Assingment_1616.docx'),\n",
       " ('Assignment17.docx', 'Programming_Assingment_1717.docx'),\n",
       " ('Assignment18.docx', 'Programming_Assingment_1818.docx'),\n",
       " ('Assignment19.docx', 'Programming_Assingment_1919.docx'),\n",
       " ('Assignment20.docx', 'Programming_Assingment_2020.docx'),\n",
       " ('Assignment21.docx', 'Programming_Assingment_2121.docx'),\n",
       " ('Assignment22.docx', 'Programming_Assingment_2222.docx'),\n",
       " ('Assignment23.docx', 'Programming_Assingment_2323.docx'),\n",
       " ('Assignment24.docx', 'Programming_Assingment_2424.docx'),\n",
       " ('Assignment25.docx', 'Programming_Assingment_2525.docx')]"
      ]
     },
     "execution_count": 8,
     "metadata": {},
     "output_type": "execute_result"
    }
   ],
   "source": [
    "lst_filename"
   ]
  },
  {
   "cell_type": "code",
   "execution_count": 9,
   "id": "59677f07",
   "metadata": {},
   "outputs": [
    {
     "name": "stdout",
     "output_type": "stream",
     "text": [
      "Programming_Assingment1.docx IS COPPIED AS Programming_Assingment_01.docx\n",
      "Python Programming Assignment.txt APPENDED SUCCESSFULLY !!\n",
      "Programming_Assingment2.docx IS COPPIED AS Programming_Assingment_02.docx\n",
      "Python Programming Assignment.txt APPENDED SUCCESSFULLY !!\n",
      "Programming_Assingment3.docx IS COPPIED AS Programming_Assingment_03.docx\n",
      "Python Programming Assignment.txt APPENDED SUCCESSFULLY !!\n",
      "Programming_Assingment4.docx IS COPPIED AS Programming_Assingment_04.docx\n",
      "Python Programming Assignment.txt APPENDED SUCCESSFULLY !!\n",
      "Programming_Assingment5.docx IS COPPIED AS Programming_Assingment_05.docx\n",
      "Python Programming Assignment.txt APPENDED SUCCESSFULLY !!\n",
      "Programming_Assingment6.docx IS COPPIED AS Programming_Assingment_06.docx\n",
      "Python Programming Assignment.txt APPENDED SUCCESSFULLY !!\n",
      "Programming_Assingment7.docx IS COPPIED AS Programming_Assingment_07.docx\n",
      "Python Programming Assignment.txt APPENDED SUCCESSFULLY !!\n",
      "Programming_Assingment8.docx IS COPPIED AS Programming_Assingment_08.docx\n",
      "Python Programming Assignment.txt APPENDED SUCCESSFULLY !!\n",
      "Programming_Assingment9.docx IS COPPIED AS Programming_Assingment_09.docx\n",
      "Python Programming Assignment.txt APPENDED SUCCESSFULLY !!\n",
      "Programming_Assingment10.docx IS COPPIED AS Programming_Assingment_10.docx\n",
      "Python Programming Assignment.txt APPENDED SUCCESSFULLY !!\n",
      "Programming_Assingment11.docx IS COPPIED AS Programming_Assingment_11.docx\n",
      "Python Programming Assignment.txt APPENDED SUCCESSFULLY !!\n",
      "Programming_Assingment12.docx IS COPPIED AS Programming_Assingment_12.docx\n",
      "Python Programming Assignment.txt APPENDED SUCCESSFULLY !!\n",
      "Programming_Assingment13.docx IS COPPIED AS Programming_Assingment_13.docx\n",
      "Python Programming Assignment.txt APPENDED SUCCESSFULLY !!\n",
      "Programming_Assingment14.docx IS COPPIED AS Programming_Assingment_14.docx\n",
      "Python Programming Assignment.txt APPENDED SUCCESSFULLY !!\n",
      "Programming_Assingment15.docx IS COPPIED AS Programming_Assingment_15.docx\n",
      "Python Programming Assignment.txt APPENDED SUCCESSFULLY !!\n",
      "Programming_Assingment16.docx IS COPPIED AS Programming_Assingment_16.docx\n",
      "Python Programming Assignment.txt APPENDED SUCCESSFULLY !!\n",
      "Programming_Assingment17.docx IS COPPIED AS Programming_Assingment_17.docx\n",
      "Python Programming Assignment.txt APPENDED SUCCESSFULLY !!\n",
      "Programming_Assingment18.docx IS COPPIED AS Programming_Assingment_18.docx\n",
      "Python Programming Assignment.txt APPENDED SUCCESSFULLY !!\n",
      "Programming_Assingment19.docx IS COPPIED AS Programming_Assingment_19.docx\n",
      "Python Programming Assignment.txt APPENDED SUCCESSFULLY !!\n",
      "Programming_Assingment20.docx IS COPPIED AS Programming_Assingment_20.docx\n",
      "Python Programming Assignment.txt APPENDED SUCCESSFULLY !!\n",
      "Programming_Assingment21.docx IS COPPIED AS Programming_Assingment_21.docx\n",
      "Python Programming Assignment.txt APPENDED SUCCESSFULLY !!\n",
      "Programming_Assingment22.docx IS COPPIED AS Programming_Assingment_22.docx\n",
      "Python Programming Assignment.txt APPENDED SUCCESSFULLY !!\n",
      "Programming_Assingment23.docx IS COPPIED AS Programming_Assingment_23.docx\n",
      "Python Programming Assignment.txt APPENDED SUCCESSFULLY !!\n",
      "Programming_Assingment24.docx IS COPPIED AS Programming_Assingment_24.docx\n",
      "Python Programming Assignment.txt APPENDED SUCCESSFULLY !!\n",
      "Programming_Assingment25.docx IS COPPIED AS Programming_Assingment_25.docx\n",
      "Python Programming Assignment.txt APPENDED SUCCESSFULLY !!\n",
      "Assignment1.docx IS COPPIED AS Programming_Assingment_0101.docx\n",
      "Python Programming Assignment.txt APPENDED SUCCESSFULLY !!\n",
      "Assignment2.docx IS COPPIED AS Programming_Assingment_0202.docx\n",
      "Python Programming Assignment.txt APPENDED SUCCESSFULLY !!\n",
      "Assignment3.docx IS COPPIED AS Programming_Assingment_0303.docx\n",
      "Python Programming Assignment.txt APPENDED SUCCESSFULLY !!\n",
      "Assignment4.docx IS COPPIED AS Programming_Assingment_0404.docx\n",
      "Python Programming Assignment.txt APPENDED SUCCESSFULLY !!\n",
      "Assignment5.docx IS COPPIED AS Programming_Assingment_0505.docx\n",
      "Python Programming Assignment.txt APPENDED SUCCESSFULLY !!\n",
      "Assignment6.docx IS COPPIED AS Programming_Assingment_0606.docx\n",
      "Python Programming Assignment.txt APPENDED SUCCESSFULLY !!\n",
      "Assignment7.docx IS COPPIED AS Programming_Assingment_0707.docx\n",
      "Python Programming Assignment.txt APPENDED SUCCESSFULLY !!\n",
      "Assignment8.docx IS COPPIED AS Programming_Assingment_0808.docx\n",
      "Python Programming Assignment.txt APPENDED SUCCESSFULLY !!\n",
      "Assignment9.docx IS COPPIED AS Programming_Assingment_0909.docx\n",
      "Python Programming Assignment.txt APPENDED SUCCESSFULLY !!\n",
      "Assignment10.docx IS COPPIED AS Programming_Assingment_1010.docx\n",
      "Python Programming Assignment.txt APPENDED SUCCESSFULLY !!\n",
      "Assignment11.docx IS COPPIED AS Programming_Assingment_1111.docx\n",
      "Python Programming Assignment.txt APPENDED SUCCESSFULLY !!\n",
      "Assignment12.docx IS COPPIED AS Programming_Assingment_1212.docx\n",
      "Python Programming Assignment.txt APPENDED SUCCESSFULLY !!\n",
      "Assignment13.docx IS COPPIED AS Programming_Assingment_1313.docx\n",
      "Python Programming Assignment.txt APPENDED SUCCESSFULLY !!\n",
      "Assignment14.docx IS COPPIED AS Programming_Assingment_1414.docx\n",
      "Python Programming Assignment.txt APPENDED SUCCESSFULLY !!\n",
      "Assignment15.docx IS COPPIED AS Programming_Assingment_1515.docx\n",
      "Python Programming Assignment.txt APPENDED SUCCESSFULLY !!\n",
      "Assignment16.docx IS COPPIED AS Programming_Assingment_1616.docx\n",
      "Python Programming Assignment.txt APPENDED SUCCESSFULLY !!\n",
      "Assignment17.docx IS COPPIED AS Programming_Assingment_1717.docx\n",
      "Python Programming Assignment.txt APPENDED SUCCESSFULLY !!\n",
      "Assignment18.docx IS COPPIED AS Programming_Assingment_1818.docx\n",
      "Python Programming Assignment.txt APPENDED SUCCESSFULLY !!\n",
      "Assignment19.docx IS COPPIED AS Programming_Assingment_1919.docx\n",
      "Python Programming Assignment.txt APPENDED SUCCESSFULLY !!\n",
      "Assignment20.docx IS COPPIED AS Programming_Assingment_2020.docx\n",
      "Python Programming Assignment.txt APPENDED SUCCESSFULLY !!\n",
      "Assignment21.docx IS COPPIED AS Programming_Assingment_2121.docx\n",
      "Python Programming Assignment.txt APPENDED SUCCESSFULLY !!\n",
      "Assignment22.docx IS COPPIED AS Programming_Assingment_2222.docx\n",
      "Python Programming Assignment.txt APPENDED SUCCESSFULLY !!\n",
      "Assignment23.docx IS COPPIED AS Programming_Assingment_2323.docx\n",
      "Python Programming Assignment.txt APPENDED SUCCESSFULLY !!\n",
      "Assignment24.docx IS COPPIED AS Programming_Assingment_2424.docx\n",
      "Python Programming Assignment.txt APPENDED SUCCESSFULLY !!\n",
      "Assignment25.docx IS COPPIED AS Programming_Assingment_2525.docx\n",
      "Python Programming Assignment.txt APPENDED SUCCESSFULLY !!\n"
     ]
    }
   ],
   "source": [
    "for i in lst_filename:\n",
    "    fileHandler_instance.copyFile(src=download, \n",
    "                                  dst=\"D:\\\\iNeuron\\\\Full Stack Data Science\\\\fileHandler\\\\Python Programming Assignment\", \n",
    "                                  filename=i[0], new_filename=i[1])\n",
    "    fileHandler_instance.appendDoctoText(filename=i[1], \n",
    "                                         filepath=\"D:\\\\iNeuron\\\\Full Stack Data Science\\\\fileHandler\\\\Python Programming Assignment\",\n",
    "                                         op_filename=\"Python Programming Assignment.txt\",\n",
    "                                         op_filepath=\"D:\\\\iNeuron\\\\Full Stack Data Science\\\\fileHandler\\\\Python Programming Assignment\")"
   ]
  },
  {
   "cell_type": "code",
   "execution_count": null,
   "id": "69f317a7",
   "metadata": {},
   "outputs": [],
   "source": []
  }
 ],
 "metadata": {
  "kernelspec": {
   "display_name": "Python 3 (ipykernel)",
   "language": "python",
   "name": "python3"
  },
  "language_info": {
   "codemirror_mode": {
    "name": "ipython",
    "version": 3
   },
   "file_extension": ".py",
   "mimetype": "text/x-python",
   "name": "python",
   "nbconvert_exporter": "python",
   "pygments_lexer": "ipython3",
   "version": "3.9.12"
  }
 },
 "nbformat": 4,
 "nbformat_minor": 5
}
